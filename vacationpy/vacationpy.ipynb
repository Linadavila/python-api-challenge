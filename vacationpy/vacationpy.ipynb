{
 "cells": [
  {
   "cell_type": "code",
   "execution_count": 9,
   "metadata": {},
   "outputs": [],
   "source": [
    "# Dependencies and Setup\n",
    "import pandas as pd\n",
    "import numpy as np\n",
    "import matplotlib.pyplot as plt\n",
    "import requests\n",
    "import datetime\n",
    "from citipy import citipy\n",
    "from scipy import stats\n",
    "from scipy.stats import linregress\n",
    "from pprint import pprint\n",
    "import gmaps\n",
    "import os\n",
    "\n",
    "#import api keys\n",
    "from api_keys import gkey"
   ]
  },
  {
   "cell_type": "code",
   "execution_count": 10,
   "metadata": {},
   "outputs": [
    {
     "output_type": "execute_result",
     "data": {
      "text/plain": "   Unnamed: 0            city country  latitude  longitude  max_temperature  \\\n0           0       Cape town      ZA    -33.93      18.42           283.15   \n1           1  Port elizabeth      ZA    -33.92      25.57           285.15   \n2           2       Busselton      AU    -33.65     115.33           285.37   \n\n   humidity  cloudiness  wind_speed  \n0     100.0         0.0         1.0  \n1      87.0         0.0         2.6  \n2      90.0         0.0         2.3  ",
      "text/html": "<div>\n<style scoped>\n    .dataframe tbody tr th:only-of-type {\n        vertical-align: middle;\n    }\n\n    .dataframe tbody tr th {\n        vertical-align: top;\n    }\n\n    .dataframe thead th {\n        text-align: right;\n    }\n</style>\n<table border=\"1\" class=\"dataframe\">\n  <thead>\n    <tr style=\"text-align: right;\">\n      <th></th>\n      <th>Unnamed: 0</th>\n      <th>city</th>\n      <th>country</th>\n      <th>latitude</th>\n      <th>longitude</th>\n      <th>max_temperature</th>\n      <th>humidity</th>\n      <th>cloudiness</th>\n      <th>wind_speed</th>\n    </tr>\n  </thead>\n  <tbody>\n    <tr>\n      <td>0</td>\n      <td>0</td>\n      <td>Cape town</td>\n      <td>ZA</td>\n      <td>-33.93</td>\n      <td>18.42</td>\n      <td>283.15</td>\n      <td>100.0</td>\n      <td>0.0</td>\n      <td>1.0</td>\n    </tr>\n    <tr>\n      <td>1</td>\n      <td>1</td>\n      <td>Port elizabeth</td>\n      <td>ZA</td>\n      <td>-33.92</td>\n      <td>25.57</td>\n      <td>285.15</td>\n      <td>87.0</td>\n      <td>0.0</td>\n      <td>2.6</td>\n    </tr>\n    <tr>\n      <td>2</td>\n      <td>2</td>\n      <td>Busselton</td>\n      <td>AU</td>\n      <td>-33.65</td>\n      <td>115.33</td>\n      <td>285.37</td>\n      <td>90.0</td>\n      <td>0.0</td>\n      <td>2.3</td>\n    </tr>\n  </tbody>\n</table>\n</div>"
     },
     "metadata": {},
     "execution_count": 10
    }
   ],
   "source": [
    "#Readfile\n",
    "cities_data_df = pd.read_csv(\"../weatherpy/weather_data.csv\")\n",
    "cities_data_df.dropna()\n",
    "cities_data_df.head(3)"
   ]
  },
  {
   "cell_type": "code",
   "execution_count": 11,
   "metadata": {},
   "outputs": [
    {
     "output_type": "execute_result",
     "data": {
      "text/plain": "Unnamed: 0           int64\ncity                object\ncountry             object\nlatitude           float64\nlongitude          float64\nmax_temperature    float64\nhumidity           float64\ncloudiness         float64\nwind_speed         float64\ndtype: object"
     },
     "metadata": {},
     "execution_count": 11
    }
   ],
   "source": [
    "cities_data_df.dtypes"
   ]
  },
  {
   "cell_type": "code",
   "execution_count": 14,
   "metadata": {},
   "outputs": [
    {
     "output_type": "execute_result",
     "data": {
      "text/plain": "Unnamed: 0         576\ncity               576\ncountry            573\nlatitude           576\nlongitude          576\nmax_temperature    576\nhumidity           576\ncloudiness         576\nwind_speed         576\ndtype: int64"
     },
     "metadata": {},
     "execution_count": 14
    }
   ],
   "source": [
    "cities_data_df.count()"
   ]
  },
  {
   "cell_type": "code",
   "execution_count": 6,
   "metadata": {},
   "outputs": [
    {
     "output_type": "display_data",
     "data": {
      "text/plain": "Figure(layout=FigureLayout(height='420px'))",
      "application/vnd.jupyter.widget-view+json": {
       "version_major": 2,
       "version_minor": 0,
       "model_id": "29da9c8e7903431c9bd86b8869344594"
      }
     },
     "metadata": {}
    }
   ],
   "source": [
    "#configure gmaps\n",
    "gmaps.configure(api_key=gkey)\n",
    "\n",
    "#set variables\n",
    "locations = cities_data_df[[\"latitude\", \"longitude\"]]\n",
    "humidity = cities_data_df[\"humidity\"]\n",
    "\n",
    "#Heatmap - humidity\n",
    "fig = gmaps.figure()\n",
    "heat_layer = gmaps.heatmap_layer(locations, weights=humidity, dissipating=False, max_intensity=10, point_radius=2)\n",
    "\n",
    "fig.add_layer(heat_layer)\n",
    "\n",
    "fig"
   ]
  },
  {
   "cell_type": "code",
   "execution_count": 13,
   "metadata": {},
   "outputs": [
    {
     "output_type": "execute_result",
     "data": {
      "text/plain": "Unnamed: 0         244\ncity               244\ncountry            244\nlatitude           244\nlongitude          244\nmax_temperature    244\nhumidity           244\ncloudiness         244\nwind_speed         244\ndtype: int64"
     },
     "metadata": {},
     "execution_count": 13
    }
   ],
   "source": [
    "#Narrow down the DataFrame to find your ideal weather condition.\n",
    "\n",
    "narrowed_city_df = cities_data_df.loc[cities_data_df[\"max_temperature\"] < 90]\n",
    "narrowed_city_df = cities_data_df.loc[cities_data_df[\"max_temperature\"] >= 70]\n",
    "narrowed_city_df = cities_data_df.loc[cities_data_df[\"wind_speed\"] < 15]\n",
    "narrowed_city_df = cities_data_df.loc[cities_data_df[\"cloudiness\"] >= 70]\n",
    "\n",
    "#check if there is columns witn no information to drop\n",
    "narrowed_city_df.count()"
   ]
  },
  {
   "cell_type": "code",
   "execution_count": 15,
   "metadata": {},
   "outputs": [
    {
     "output_type": "execute_result",
     "data": {
      "text/plain": "   Unnamed: 0                city country  latitude  longitude  \\\n3           3           Neryungri      RU     56.67     124.65   \n5           5             College      US     64.86    -147.80   \n6           6           Geraldton      AU    -28.77     114.60   \n7           7              Avarua      CK    -21.21    -159.78   \n9           9  Puerto del rosario      ES     28.50     -13.86   \n\n   max_temperature  humidity  cloudiness  wind_speed  \n3           293.18      82.0       100.0        0.85  \n5           299.15      44.0        75.0        4.92  \n6           284.15      93.0        93.0        2.60  \n7           295.15      53.0       100.0        3.10  \n9           296.15      78.0        75.0        7.20  ",
      "text/html": "<div>\n<style scoped>\n    .dataframe tbody tr th:only-of-type {\n        vertical-align: middle;\n    }\n\n    .dataframe tbody tr th {\n        vertical-align: top;\n    }\n\n    .dataframe thead th {\n        text-align: right;\n    }\n</style>\n<table border=\"1\" class=\"dataframe\">\n  <thead>\n    <tr style=\"text-align: right;\">\n      <th></th>\n      <th>Unnamed: 0</th>\n      <th>city</th>\n      <th>country</th>\n      <th>latitude</th>\n      <th>longitude</th>\n      <th>max_temperature</th>\n      <th>humidity</th>\n      <th>cloudiness</th>\n      <th>wind_speed</th>\n    </tr>\n  </thead>\n  <tbody>\n    <tr>\n      <td>3</td>\n      <td>3</td>\n      <td>Neryungri</td>\n      <td>RU</td>\n      <td>56.67</td>\n      <td>124.65</td>\n      <td>293.18</td>\n      <td>82.0</td>\n      <td>100.0</td>\n      <td>0.85</td>\n    </tr>\n    <tr>\n      <td>5</td>\n      <td>5</td>\n      <td>College</td>\n      <td>US</td>\n      <td>64.86</td>\n      <td>-147.80</td>\n      <td>299.15</td>\n      <td>44.0</td>\n      <td>75.0</td>\n      <td>4.92</td>\n    </tr>\n    <tr>\n      <td>6</td>\n      <td>6</td>\n      <td>Geraldton</td>\n      <td>AU</td>\n      <td>-28.77</td>\n      <td>114.60</td>\n      <td>284.15</td>\n      <td>93.0</td>\n      <td>93.0</td>\n      <td>2.60</td>\n    </tr>\n    <tr>\n      <td>7</td>\n      <td>7</td>\n      <td>Avarua</td>\n      <td>CK</td>\n      <td>-21.21</td>\n      <td>-159.78</td>\n      <td>295.15</td>\n      <td>53.0</td>\n      <td>100.0</td>\n      <td>3.10</td>\n    </tr>\n    <tr>\n      <td>9</td>\n      <td>9</td>\n      <td>Puerto del rosario</td>\n      <td>ES</td>\n      <td>28.50</td>\n      <td>-13.86</td>\n      <td>296.15</td>\n      <td>78.0</td>\n      <td>75.0</td>\n      <td>7.20</td>\n    </tr>\n  </tbody>\n</table>\n</div>"
     },
     "metadata": {},
     "execution_count": 15
    }
   ],
   "source": [
    "narrowed_city_df.head()"
   ]
  },
  {
   "cell_type": "code",
   "execution_count": 16,
   "metadata": {},
   "outputs": [],
   "source": [
    "#HOTEL\n",
    "hotel_df = pd.DataFrame(narrowed_city_df)\n",
    "hotel_df[\"hotel\"] = \"\"\n"
   ]
  },
  {
   "cell_type": "code",
   "execution_count": 17,
   "metadata": {
    "tags": []
   },
   "outputs": [
    {
     "output_type": "stream",
     "name": "stdout",
     "text": "Unnamed: 0                city country  latitude  longitude  \\\n3             3           Neryungri      RU     56.67     124.65   \n5             5             College      US     64.86    -147.80   \n6             6           Geraldton      AU    -28.77     114.60   \n7             7              Avarua      CK    -21.21    -159.78   \n9             9  Puerto del rosario      ES     28.50     -13.86   \n..          ...                 ...     ...       ...        ...   \n561         561              Mehamn      NO     71.04      27.85   \n563         563            Were ilu      ET     10.60      39.43   \n565         565                 Obo      CF      5.40      26.49   \n566         566           Pontianak      ID     -0.03     109.33   \n572         572             Lerwick      GB     60.15      -1.15   \n\n     max_temperature  humidity  cloudiness  wind_speed hotel  \n3             293.18      82.0       100.0        0.85        \n5             299.15      44.0        75.0        4.92        \n6             284.15      93.0        93.0        2.60        \n7             295.15      53.0       100.0        3.10        \n9             296.15      78.0        75.0        7.20        \n..               ...       ...         ...         ...   ...  \n561           283.66      90.0        88.0        3.37        \n563           283.53      97.0       100.0        1.48        \n565           292.63      96.0        88.0        0.53        \n566           298.42      76.0        92.0        2.67        \n572           286.15      87.0       100.0        5.70        \n\n[244 rows x 10 columns]\n"
    }
   ],
   "source": [
    "print(hotel_df)"
   ]
  },
  {
   "cell_type": "code",
   "execution_count": null,
   "metadata": {},
   "outputs": [],
   "source": [
    "# set up a parameters dictionary\n",
    "params = {\n",
    "    \"radius\": 5000,\n",
    "    \"type\": \"hotel\",\n",
    "    \"key\": gkey\n",
    "}\n",
    "\n",
    "# base url\n",
    "base_url = \"https://maps.googleapis.com/maps/api/place/nearbysearch/json\""
   ]
  },
  {
   "cell_type": "code",
   "execution_count": null,
   "metadata": {},
   "outputs": [],
   "source": [
    "for index, row in hotel_df.iterrows():\n",
    "\n",
    "    response = requests.get(base_url, params=params).json()\n",
    "    \n",
    "    results = response['results']"
   ]
  },
  {
   "cell_type": "code",
   "execution_count": null,
   "metadata": {},
   "outputs": [],
   "source": [
    "# NOTE: Do not change any of the code in this cell\n",
    "\n",
    "# Using the template add the hotel marks to the heatmap\n",
    "info_box_template = \"\"\"\n",
    "<dl>\n",
    "<dt>Name</dt><dd>{Hotel Name}</dd>\n",
    "<dt>City</dt><dd>{City}</dd>\n",
    "<dt>Country</dt><dd>{Country}</dd>\n",
    "</dl>\n",
    "\"\"\"\n",
    "# Store the DataFrame Row\n",
    "# NOTE: be sure to update with your DataFrame name\n",
    "hotel_info = [info_box_template.format(**row) for index, row in hotel_df.iterrows()]\n",
    "locations = hotel_df[[\"latitude\", \"longitude\"]]"
   ]
  }
 ],
 "metadata": {
  "anaconda-cloud": {},
  "kernel_info": {
   "name": "python3"
  },
  "kernelspec": {
   "display_name": "Python 3.7.4 64-bit ('base': conda)",
   "language": "python",
   "name": "python37464bitbaseconda41aee72bc946487890300e2d28d1dfc3"
  },
  "language_info": {
   "codemirror_mode": {
    "name": "ipython",
    "version": 3
   },
   "file_extension": ".py",
   "mimetype": "text/x-python",
   "name": "python",
   "nbconvert_exporter": "python",
   "pygments_lexer": "ipython3",
   "version": "3.7.4-final"
  },
  "latex_envs": {
   "LaTeX_envs_menu_present": true,
   "autoclose": false,
   "autocomplete": true,
   "bibliofile": "biblio.bib",
   "cite_by": "apalike",
   "current_citInitial": 1,
   "eqLabelWithNumbers": true,
   "eqNumInitial": 1,
   "hotkeys": {
    "equation": "Ctrl-E",
    "itemize": "Ctrl-I"
   },
   "labels_anchors": false,
   "latex_user_defs": false,
   "report_style_numbering": false,
   "user_envs_cfg": false
  },
  "nteract": {
   "version": "0.2.0"
  }
 },
 "nbformat": 4,
 "nbformat_minor": 2
}